{
 "cells": [
  {
   "cell_type": "code",
   "execution_count": 2,
   "metadata": {},
   "outputs": [],
   "source": [
    "from numpy import *"
   ]
  },
  {
   "cell_type": "code",
   "execution_count": 3,
   "metadata": {},
   "outputs": [
    {
     "data": {
      "text/plain": [
       "array([[0.07188171, 0.13147015, 0.47376387, 0.75057909],\n",
       "       [0.66937336, 0.20881996, 0.88585402, 0.66692066],\n",
       "       [0.6797852 , 0.13832765, 0.87277335, 0.33945553],\n",
       "       [0.30453644, 0.48514467, 0.36106667, 0.96275041]])"
      ]
     },
     "execution_count": 3,
     "metadata": {},
     "output_type": "execute_result"
    }
   ],
   "source": [
    "#随机数 4*4的矩阵\n",
    "random.rand(4, 4)"
   ]
  },
  {
   "cell_type": "code",
   "execution_count": 4,
   "metadata": {},
   "outputs": [],
   "source": [
    "#调用mat()函数可以将数组化为矩阵\n",
    "randMat = mat(random.rand(4, 4))"
   ]
  },
  {
   "cell_type": "code",
   "execution_count": 5,
   "metadata": {},
   "outputs": [
    {
     "data": {
      "text/plain": [
       "matrix([[-21.74966682,  11.61146157,  11.02273741, -21.7051839 ],\n",
       "        [-32.52363462,  13.31344192,  30.09626406, -43.96188114],\n",
       "        [ 35.62070922, -16.45366136, -21.09468949,  36.43254951],\n",
       "        [ 12.40932769,  -5.35441515, -11.21379892,  18.83011447]])"
      ]
     },
     "execution_count": 5,
     "metadata": {},
     "output_type": "execute_result"
    }
   ],
   "source": [
    "#.I操作符实现了矩阵求逆的运算\n",
    "randMat.I"
   ]
  },
  {
   "cell_type": "code",
   "execution_count": 6,
   "metadata": {},
   "outputs": [],
   "source": [
    "#将逆矩阵储存起来\n",
    "invRandMat = randMat.I"
   ]
  },
  {
   "cell_type": "code",
   "execution_count": 7,
   "metadata": {},
   "outputs": [
    {
     "data": {
      "text/plain": [
       "matrix([[ 1.00000000e+00, -1.11022302e-15, -4.44089210e-16,\n",
       "          3.55271368e-15],\n",
       "        [-8.88178420e-16,  1.00000000e+00,  1.77635684e-15,\n",
       "          3.55271368e-15],\n",
       "        [-4.44089210e-16, -2.22044605e-16,  1.00000000e+00,\n",
       "         -8.88178420e-16],\n",
       "        [ 8.60422844e-16, -3.33066907e-16, -8.32667268e-17,\n",
       "          1.00000000e+00]])"
      ]
     },
     "execution_count": 7,
     "metadata": {},
     "output_type": "execute_result"
    }
   ],
   "source": [
    "#得到的应该是单位矩阵，在计算机里显示的很小的值可以看做是0\n",
    "randMat * invRandMat"
   ]
  },
  {
   "cell_type": "code",
   "execution_count": 8,
   "metadata": {},
   "outputs": [],
   "source": [
    "myEye = randMat * invRandMat"
   ]
  },
  {
   "cell_type": "code",
   "execution_count": 9,
   "metadata": {},
   "outputs": [
    {
     "data": {
      "text/plain": [
       "matrix([[ 1.77635684e-15, -1.11022302e-15, -4.44089210e-16,\n",
       "          3.55271368e-15],\n",
       "        [-8.88178420e-16,  6.66133815e-16,  1.77635684e-15,\n",
       "          3.55271368e-15],\n",
       "        [-4.44089210e-16, -2.22044605e-16,  8.88178420e-16,\n",
       "         -8.88178420e-16],\n",
       "        [ 8.60422844e-16, -3.33066907e-16, -8.32667268e-17,\n",
       "          2.22044605e-16]])"
      ]
     },
     "execution_count": 9,
     "metadata": {},
     "output_type": "execute_result"
    }
   ],
   "source": [
    "#可以看到最后的结果是0矩阵\n",
    "myEye - eye(4)"
   ]
  },
  {
   "cell_type": "code",
   "execution_count": null,
   "metadata": {},
   "outputs": [],
   "source": []
  },
  {
   "cell_type": "code",
   "execution_count": null,
   "metadata": {},
   "outputs": [],
   "source": []
  }
 ],
 "metadata": {
  "kernelspec": {
   "display_name": "Python 3",
   "language": "python",
   "name": "python3"
  },
  "language_info": {
   "codemirror_mode": {
    "name": "ipython",
    "version": 3
   },
   "file_extension": ".py",
   "mimetype": "text/x-python",
   "name": "python",
   "nbconvert_exporter": "python",
   "pygments_lexer": "ipython3",
   "version": "3.7.1"
  }
 },
 "nbformat": 4,
 "nbformat_minor": 2
}