{
 "cells": [
  {
   "cell_type": "code",
   "execution_count": 3,
   "metadata": {},
   "outputs": [],
   "source": [
    "from numpy import *"
   ]
  },
  {
   "cell_type": "code",
   "execution_count": 4,
   "metadata": {},
   "outputs": [
    {
     "data": {
      "text/plain": "array([[0.17405364, 0.3517937 , 0.84914308, 0.23353483],\n       [0.52919678, 0.48062091, 0.42232995, 0.22071502],\n       [0.45647952, 0.46560275, 0.77344745, 0.84942335],\n       [0.82715159, 0.37380676, 0.1960117 , 0.37556069]])"
     },
     "execution_count": 4,
     "metadata": {},
     "output_type": "execute_result"
    }
   ],
   "source": [
    "#随机数 4*4的矩阵\n",
    "random.rand(4, 4)"
   ]
  },
  {
   "cell_type": "code",
   "execution_count": 5,
   "metadata": {},
   "outputs": [],
   "source": [
    "#调用mat()函数可以将数组化为矩阵\n",
    "randMat = mat(random.rand(4, 4))"
   ]
  },
  {
   "cell_type": "code",
   "execution_count": 6,
   "metadata": {},
   "outputs": [
    {
     "data": {
      "text/plain": "matrix([[  1.07947392,   0.30403237,  -0.36111784,  -0.36383454],\n        [  8.62723101,  -7.34776795,  11.57173463,  -7.02384321],\n        [-18.57619125,  18.01406038, -22.17798942,  10.69569932],\n        [ 12.9944545 , -13.53374677,  16.25891982,  -6.11472081]])"
     },
     "execution_count": 6,
     "metadata": {},
     "output_type": "execute_result"
    }
   ],
   "source": [
    "#.I操作符实现了矩阵求逆的运算\n",
    "randMat.I"
   ]
  },
  {
   "cell_type": "code",
   "execution_count": 7,
   "metadata": {},
   "outputs": [],
   "source": [
    "#将逆矩阵储存起来\n",
    "invRandMat = randMat.I"
   ]
  },
  {
   "cell_type": "code",
   "execution_count": 7,
   "metadata": {},
   "outputs": [
    {
     "data": {
      "text/plain": [
       "matrix([[ 1.00000000e+00, -1.11022302e-15, -4.44089210e-16,\n",
       "          3.55271368e-15],\n",
       "        [-8.88178420e-16,  1.00000000e+00,  1.77635684e-15,\n",
       "          3.55271368e-15],\n",
       "        [-4.44089210e-16, -2.22044605e-16,  1.00000000e+00,\n",
       "         -8.88178420e-16],\n",
       "        [ 8.60422844e-16, -3.33066907e-16, -8.32667268e-17,\n",
       "          1.00000000e+00]])"
      ]
     },
     "execution_count": 7,
     "metadata": {},
     "output_type": "execute_result"
    }
   ],
   "source": [
    "#得到的应该是单位矩阵，在计算机里显示的很小的值可以看做是0\n",
    "randMat * invRandMat"
   ]
  },
  {
   "cell_type": "code",
   "execution_count": 8,
   "metadata": {},
   "outputs": [],
   "source": [
    "myEye = randMat * invRandMat"
   ]
  },
  {
   "cell_type": "code",
   "execution_count": 9,
   "metadata": {},
   "outputs": [
    {
     "data": {
      "text/plain": [
       "matrix([[ 1.77635684e-15, -1.11022302e-15, -4.44089210e-16,\n",
       "          3.55271368e-15],\n",
       "        [-8.88178420e-16,  6.66133815e-16,  1.77635684e-15,\n",
       "          3.55271368e-15],\n",
       "        [-4.44089210e-16, -2.22044605e-16,  8.88178420e-16,\n",
       "         -8.88178420e-16],\n",
       "        [ 8.60422844e-16, -3.33066907e-16, -8.32667268e-17,\n",
       "          2.22044605e-16]])"
      ]
     },
     "execution_count": 9,
     "metadata": {},
     "output_type": "execute_result"
    }
   ],
   "source": [
    "#可以看到最后的结果是0矩阵\n",
    "myEye - eye(4)"
   ]
  },
  {
   "cell_type": "code",
   "execution_count": null,
   "metadata": {},
   "outputs": [],
   "source": []
  },
  {
   "cell_type": "code",
   "execution_count": null,
   "metadata": {},
   "outputs": [],
   "source": []
  }
 ],
 "metadata": {
  "kernelspec": {
   "display_name": "Python 3",
   "language": "python",
   "name": "python3"
  },
  "language_info": {
   "codemirror_mode": {
    "name": "ipython",
    "version": 3
   },
   "file_extension": ".py",
   "mimetype": "text/x-python",
   "name": "python",
   "nbconvert_exporter": "python",
   "pygments_lexer": "ipython3",
   "version": "3.7.1"
  }
 },
 "nbformat": 4,
 "nbformat_minor": 2
}